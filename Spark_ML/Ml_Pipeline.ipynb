{
 "cells": [
  {
   "cell_type": "code",
   "execution_count": 1,
   "id": "e63591c8-1e25-46ba-8b70-45670c80e731",
   "metadata": {},
   "outputs": [],
   "source": [
    "from pyspark import SparkConf, SparkContext, SQLContext\n",
    "from pyspark.ml import Pipeline\n",
    "from pyspark.ml.classification import LogisticRegression\n",
    "from pyspark.ml.feature import HashingTF, Tokenizer\n"
   ]
  },
  {
   "cell_type": "markdown",
   "id": "fc77dc0c-61cf-49dc-b74e-1c2e2f77a99c",
   "metadata": {},
   "source": [
    "# initiiating spark session : ML Pipeline"
   ]
  },
  {
   "cell_type": "code",
   "execution_count": 2,
   "id": "d333b86b-540e-4352-bb09-f8bc9fac4e77",
   "metadata": {},
   "outputs": [
    {
     "name": "stdout",
     "output_type": "stream",
     "text": [
      "ML Pipeline\n"
     ]
    }
   ],
   "source": [
    "master = 'local'\n",
    "appName = 'ML Pipeline'\n",
    "\n",
    "config = SparkConf().setAppName(appName).setMaster(master)\n",
    "sc = SparkContext(conf=config)\n",
    "# You will need to create the sqlContext\n",
    "spark = SQLContext(sc)\n",
    "\n",
    "if spark:\n",
    "    print(sc.appName)\n",
    "else:\n",
    "    print('Could not initialise pyspark session')\n"
   ]
  },
  {
   "cell_type": "markdown",
   "id": "85914023-155e-4cef-9e32-c32fa8d0c8ea",
   "metadata": {},
   "source": [
    "# Prepare training documents from a list of (id, text, label) tuples."
   ]
  },
  {
   "cell_type": "code",
   "execution_count": 3,
   "id": "8b7eb41f-cd4b-4e9e-8691-e7cc7325f8e5",
   "metadata": {},
   "outputs": [],
   "source": [
    "training = spark.createDataFrame([\n",
    "    (0, \"a b c d e spark\", 1.0),\n",
    "    (1, \"b d\", 0.0),\n",
    "    (2, \"spark f g h\", 1.0),\n",
    "    (3, \"hadoop mapreduce\", 0.0)\n",
    "], [\"id\", \"text\", \"label\"])"
   ]
  },
  {
   "cell_type": "markdown",
   "id": "da2cb89e-582c-4ba0-9ba3-5e141b654523",
   "metadata": {},
   "source": [
    "# Configure an ML pipeline, which consists of three stages: tokenizer, hashingTF, and lr."
   ]
  },
  {
   "cell_type": "code",
   "execution_count": 4,
   "id": "e34566f2-f90a-442a-a2df-6e711372a055",
   "metadata": {},
   "outputs": [],
   "source": [
    "tokenizer = Tokenizer(inputCol=\"text\", outputCol=\"words\")\n",
    "hashingTF = HashingTF(inputCol=tokenizer.getOutputCol(), outputCol=\"features\")\n",
    "lr = LogisticRegression(maxIter=10, regParam=0.001)\n",
    "pipeline = Pipeline(stages=[tokenizer, hashingTF, lr])"
   ]
  },
  {
   "cell_type": "code",
   "execution_count": 5,
   "id": "f04c9654-802b-42d8-98a3-7c4287d7bd3f",
   "metadata": {},
   "outputs": [],
   "source": [
    "# Fit the pipeline to training documents.\n",
    "model = pipeline.fit(training)"
   ]
  },
  {
   "cell_type": "markdown",
   "id": "601a7603-055d-4067-a9df-115f943eab5f",
   "metadata": {},
   "source": [
    "# Prepare test documents, which are unlabeled (id, text) tuple"
   ]
  },
  {
   "cell_type": "code",
   "execution_count": 6,
   "id": "3b22c251-816c-4b3c-86b7-97b78f945982",
   "metadata": {},
   "outputs": [],
   "source": [
    "test = spark.createDataFrame([\n",
    "    (4, \"spark i j k\"),\n",
    "    (5, \"l m n\"),\n",
    "    (6, \"spark hadoop spark\"),\n",
    "    (7, \"apache hadoop\")\n",
    "], [\"id\", \"text\"])"
   ]
  },
  {
   "cell_type": "markdown",
   "id": "8bc3500d-0577-4612-a4dd-234590c881f9",
   "metadata": {},
   "source": [
    "# Make predictions on test documents and print columns of interest"
   ]
  },
  {
   "cell_type": "code",
   "execution_count": 7,
   "id": "3c4a6d1f-c2e7-4b48-b6b2-1cc68060b25e",
   "metadata": {},
   "outputs": [
    {
     "name": "stdout",
     "output_type": "stream",
     "text": [
      "root\n",
      " |-- id: long (nullable = true)\n",
      " |-- text: string (nullable = true)\n",
      " |-- words: array (nullable = true)\n",
      " |    |-- element: string (containsNull = true)\n",
      " |-- features: vector (nullable = true)\n",
      " |-- rawPrediction: vector (nullable = true)\n",
      " |-- probability: vector (nullable = true)\n",
      " |-- prediction: double (nullable = false)\n",
      "\n",
      "(4, spark i j k) --> prob=[0.1596407738787412,0.8403592261212588], prediction=1.000000\n",
      "(5, l m n) --> prob=[0.8378325685476614,0.16216743145233858], prediction=0.000000\n",
      "(6, spark hadoop spark) --> prob=[0.06926633132976266,0.9307336686702373], prediction=1.000000\n",
      "(7, apache hadoop) --> prob=[0.9821575333444208,0.017842466655579203], prediction=0.000000\n"
     ]
    }
   ],
   "source": [
    "prediction = model.transform(test)\n",
    "prediction.printSchema()\n",
    "\n",
    "selected = prediction.select(\"id\", \"text\", \"probability\", \"prediction\")\n",
    "for row in selected.collect():\n",
    "    rid, text, prob, prediction = row  # type: ignore\n",
    "    print(\n",
    "        \"(%d, %s) --> prob=%s, prediction=%f\" % (\n",
    "            rid, text, str(prob), prediction   # type: ignore\n",
    "        )\n",
    "    )"
   ]
  },
  {
   "cell_type": "code",
   "execution_count": null,
   "id": "ab4cf3cd-150e-491a-8a7c-cb995743f530",
   "metadata": {},
   "outputs": [],
   "source": []
  }
 ],
 "metadata": {
  "kernelspec": {
   "display_name": "Python 3",
   "language": "python",
   "name": "python3"
  },
  "language_info": {
   "codemirror_mode": {
    "name": "ipython",
    "version": 3
   },
   "file_extension": ".py",
   "mimetype": "text/x-python",
   "name": "python",
   "nbconvert_exporter": "python",
   "pygments_lexer": "ipython3",
   "version": "3.8.8"
  }
 },
 "nbformat": 4,
 "nbformat_minor": 5
}
